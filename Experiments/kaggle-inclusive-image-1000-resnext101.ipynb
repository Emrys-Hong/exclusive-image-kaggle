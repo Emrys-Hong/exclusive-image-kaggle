{
 "cells": [
  {
   "cell_type": "code",
   "execution_count": 1,
   "metadata": {},
   "outputs": [],
   "source": [
    "%reload_ext autoreload\n",
    "%autoreload 2\n",
    "%matplotlib inline"
   ]
  },
  {
   "cell_type": "code",
   "execution_count": 2,
   "metadata": {},
   "outputs": [],
   "source": [
    "from planet import *\n",
    "from fastai.conv_learner import *"
   ]
  },
  {
   "cell_type": "markdown",
   "metadata": {},
   "source": [
    "## below is just utils skip it when you are running it"
   ]
  },
  {
   "cell_type": "code",
   "execution_count": 3,
   "metadata": {},
   "outputs": [],
   "source": [
    "class1000 = pd.read_csv('~/data/1000_classes.csv')"
   ]
  },
  {
   "cell_type": "code",
   "execution_count": 4,
   "metadata": {},
   "outputs": [
    {
     "name": "stdout",
     "output_type": "stream",
     "text": [
      "   Unnamed: 0    classes\n",
      "0           0  /m/01g317\n",
      "1           1   /m/09j2d\n",
      "2           2   /m/04yx4\n",
      "3           3   /m/0dzct\n",
      "4           4   /m/07j7r\n"
     ]
    },
    {
     "data": {
      "text/plain": [
       "1000"
      ]
     },
     "execution_count": 4,
     "metadata": {},
     "output_type": "execute_result"
    }
   ],
   "source": [
    "print(class1000.head())\n",
    "len(class1000)"
   ]
  },
  {
   "cell_type": "code",
   "execution_count": 5,
   "metadata": {},
   "outputs": [],
   "source": [
    "training1000 = pd.read_csv('/home/hongpengfei_emrys/data/training_1000.csv')"
   ]
  },
  {
   "cell_type": "code",
   "execution_count": 6,
   "metadata": {},
   "outputs": [
    {
     "data": {
      "text/html": [
       "<div>\n",
       "<style scoped>\n",
       "    .dataframe tbody tr th:only-of-type {\n",
       "        vertical-align: middle;\n",
       "    }\n",
       "\n",
       "    .dataframe tbody tr th {\n",
       "        vertical-align: top;\n",
       "    }\n",
       "\n",
       "    .dataframe thead th {\n",
       "        text-align: right;\n",
       "    }\n",
       "</style>\n",
       "<table border=\"1\" class=\"dataframe\">\n",
       "  <thead>\n",
       "    <tr style=\"text-align: right;\">\n",
       "      <th></th>\n",
       "      <th>ImageID</th>\n",
       "      <th>labels</th>\n",
       "    </tr>\n",
       "  </thead>\n",
       "  <tbody>\n",
       "    <tr>\n",
       "      <th>0</th>\n",
       "      <td>89aa80ac0e442736</td>\n",
       "      <td>/m/06_dn /m/01mzpv /m/0c_jw</td>\n",
       "    </tr>\n",
       "    <tr>\n",
       "      <th>1</th>\n",
       "      <td>e97989f6a0a85ded</td>\n",
       "      <td>/m/01bgsw /m/01g317 /m/083wq /m/09j2d /m/09j5n</td>\n",
       "    </tr>\n",
       "    <tr>\n",
       "      <th>2</th>\n",
       "      <td>10b33654f71c66ec</td>\n",
       "      <td>/m/019nj4 /m/01g317 /m/05r655 /m/09j2d /m/09j5n</td>\n",
       "    </tr>\n",
       "    <tr>\n",
       "      <th>3</th>\n",
       "      <td>8aaa439eb2f9eebf</td>\n",
       "      <td>/m/03hl4l9 /m/03xxp /m/0d8zb /m/0jbk</td>\n",
       "    </tr>\n",
       "    <tr>\n",
       "      <th>4</th>\n",
       "      <td>2cfc6c3014f1bad8</td>\n",
       "      <td>/m/0j7ty /m/05s2s /m/0c9ph5</td>\n",
       "    </tr>\n",
       "  </tbody>\n",
       "</table>\n",
       "</div>"
      ],
      "text/plain": [
       "            ImageID                                           labels\n",
       "0  89aa80ac0e442736                      /m/06_dn /m/01mzpv /m/0c_jw\n",
       "1  e97989f6a0a85ded   /m/01bgsw /m/01g317 /m/083wq /m/09j2d /m/09j5n\n",
       "2  10b33654f71c66ec  /m/019nj4 /m/01g317 /m/05r655 /m/09j2d /m/09j5n\n",
       "3  8aaa439eb2f9eebf             /m/03hl4l9 /m/03xxp /m/0d8zb /m/0jbk\n",
       "4  2cfc6c3014f1bad8                      /m/0j7ty /m/05s2s /m/0c9ph5"
      ]
     },
     "execution_count": 6,
     "metadata": {},
     "output_type": "execute_result"
    }
   ],
   "source": [
    "training1000.head()"
   ]
  },
  {
   "cell_type": "code",
   "execution_count": 7,
   "metadata": {},
   "outputs": [],
   "source": [
    "path = Path('/home/hongpengfei_emrys/data/256/')"
   ]
  },
  {
   "cell_type": "code",
   "execution_count": 8,
   "metadata": {
    "scrolled": true
   },
   "outputs": [
    {
     "name": "stdout",
     "output_type": "stream",
     "text": [
      "87412\n",
      "103813\n",
      "89aa80ac0e442736\n",
      "103813\n"
     ]
    }
   ],
   "source": [
    "# clear data that is not in the training image folder\n",
    "image_names = os.listdir(path)\n",
    "image_names = [o.split('.')[0] for o in image_names]\n",
    "print(len(image_names))\n",
    "print(len(training1000))\n",
    "imageID = list(training1000.ImageID)\n",
    "print(imageID[0])\n",
    "print(len(imageID))"
   ]
  },
  {
   "cell_type": "code",
   "execution_count": 9,
   "metadata": {},
   "outputs": [],
   "source": [
    "count=0\n",
    "error=0\n",
    "for ID in imageID:\n",
    "    if ID not in image_names:\n",
    "        try:\n",
    "            count+=1\n",
    "            training1000.drop(imageID.index(ID), inplace=True)\n",
    "        except Exception as e:\n",
    "            error+=1"
   ]
  },
  {
   "cell_type": "code",
   "execution_count": 11,
   "metadata": {},
   "outputs": [
    {
     "data": {
      "text/plain": [
       "(16401, 0)"
      ]
     },
     "execution_count": 11,
     "metadata": {},
     "output_type": "execute_result"
    }
   ],
   "source": [
    "count, error"
   ]
  },
  {
   "cell_type": "code",
   "execution_count": 12,
   "metadata": {},
   "outputs": [
    {
     "data": {
      "text/plain": [
       "87412"
      ]
     },
     "execution_count": 12,
     "metadata": {},
     "output_type": "execute_result"
    }
   ],
   "source": [
    "len(training1000)"
   ]
  },
  {
   "cell_type": "code",
   "execution_count": 17,
   "metadata": {},
   "outputs": [],
   "source": [
    "# rize image to 256\n",
    "for n in image_names:\n",
    "    img = Image.open(path/str(n+'.jpg'))\n",
    "    if img.size != (256, 256):\n",
    "        count += 1\n",
    "        img = img.resize((256,256), Image.ANTIALIAS)\n",
    "        img.save(path/str(n+'.jpg'))"
   ]
  },
  {
   "cell_type": "code",
   "execution_count": 19,
   "metadata": {},
   "outputs": [
    {
     "data": {
      "text/html": [
       "<div>\n",
       "<style scoped>\n",
       "    .dataframe tbody tr th:only-of-type {\n",
       "        vertical-align: middle;\n",
       "    }\n",
       "\n",
       "    .dataframe tbody tr th {\n",
       "        vertical-align: top;\n",
       "    }\n",
       "\n",
       "    .dataframe thead th {\n",
       "        text-align: right;\n",
       "    }\n",
       "</style>\n",
       "<table border=\"1\" class=\"dataframe\">\n",
       "  <thead>\n",
       "    <tr style=\"text-align: right;\">\n",
       "      <th></th>\n",
       "      <th>ImageID</th>\n",
       "      <th>labels</th>\n",
       "    </tr>\n",
       "  </thead>\n",
       "  <tbody>\n",
       "    <tr>\n",
       "      <th>1</th>\n",
       "      <td>e97989f6a0a85ded</td>\n",
       "      <td>/m/01bgsw /m/01g317 /m/083wq /m/09j2d /m/09j5n</td>\n",
       "    </tr>\n",
       "    <tr>\n",
       "      <th>2</th>\n",
       "      <td>10b33654f71c66ec</td>\n",
       "      <td>/m/019nj4 /m/01g317 /m/05r655 /m/09j2d /m/09j5n</td>\n",
       "    </tr>\n",
       "    <tr>\n",
       "      <th>3</th>\n",
       "      <td>8aaa439eb2f9eebf</td>\n",
       "      <td>/m/03hl4l9 /m/03xxp /m/0d8zb /m/0jbk</td>\n",
       "    </tr>\n",
       "    <tr>\n",
       "      <th>4</th>\n",
       "      <td>2cfc6c3014f1bad8</td>\n",
       "      <td>/m/0j7ty /m/05s2s /m/0c9ph5</td>\n",
       "    </tr>\n",
       "    <tr>\n",
       "      <th>6</th>\n",
       "      <td>ffd6c3e8c0839eff</td>\n",
       "      <td>/m/02c66t /m/0ltfs /m/01d40f /m/01g317 /m/03bt...</td>\n",
       "    </tr>\n",
       "  </tbody>\n",
       "</table>\n",
       "</div>"
      ],
      "text/plain": [
       "            ImageID                                             labels\n",
       "1  e97989f6a0a85ded     /m/01bgsw /m/01g317 /m/083wq /m/09j2d /m/09j5n\n",
       "2  10b33654f71c66ec    /m/019nj4 /m/01g317 /m/05r655 /m/09j2d /m/09j5n\n",
       "3  8aaa439eb2f9eebf               /m/03hl4l9 /m/03xxp /m/0d8zb /m/0jbk\n",
       "4  2cfc6c3014f1bad8                        /m/0j7ty /m/05s2s /m/0c9ph5\n",
       "6  ffd6c3e8c0839eff  /m/02c66t /m/0ltfs /m/01d40f /m/01g317 /m/03bt..."
      ]
     },
     "execution_count": 19,
     "metadata": {},
     "output_type": "execute_result"
    }
   ],
   "source": [
    "training1000.head()"
   ]
  },
  {
   "cell_type": "code",
   "execution_count": 16,
   "metadata": {},
   "outputs": [],
   "source": [
    "# write back\n",
    "training1000.to_csv('/home/hongpengfei_emrys/data/training_1000_filtered.csv', index=False)"
   ]
  },
  {
   "cell_type": "markdown",
   "metadata": {},
   "source": [
    "## the end of utils"
   ]
  },
  {
   "cell_type": "markdown",
   "metadata": {},
   "source": [
    "## load data"
   ]
  },
  {
   "cell_type": "code",
   "execution_count": 3,
   "metadata": {},
   "outputs": [],
   "source": [
    "PATH = Path('/home/hongpengfei_emrys/data/')"
   ]
  },
  {
   "cell_type": "code",
   "execution_count": 4,
   "metadata": {},
   "outputs": [],
   "source": [
    "train1000 = pd.read_csv('/home/hongpengfei_emrys/data/training_1000_filtered.csv')"
   ]
  },
  {
   "cell_type": "code",
   "execution_count": 5,
   "metadata": {},
   "outputs": [],
   "source": [
    "metricss = [f2]\n",
    "f_model = resnext101"
   ]
  },
  {
   "cell_type": "code",
   "execution_count": 6,
   "metadata": {},
   "outputs": [],
   "source": [
    "label_csv = PATH/'training_1000_filtered.csv'\n",
    "n = len(list(open(label_csv)))-1\n",
    "val_idxs = get_cv_idxs(n)"
   ]
  },
  {
   "cell_type": "code",
   "execution_count": 7,
   "metadata": {},
   "outputs": [],
   "source": [
    "def get_data(sz):\n",
    "    tfms = tfms_from_model(f_model, sz, aug_tfms=transforms_side_on, max_zoom=1.1)\n",
    "    return ImageClassifierData.from_csv(PATH, '256', label_csv, tfms=tfms,\n",
    "                    suffix='.jpg', val_idxs=val_idxs, test_name='test_256', bs=32)"
   ]
  },
  {
   "cell_type": "code",
   "execution_count": null,
   "metadata": {},
   "outputs": [],
   "source": [
    "def get_data(sz, bs): # sz: image size, bs: batch size\n",
    "    tfms = tfms_from_model(arch, sz, aug_tfms=transforms_side_on, max_zoom=1.1)\n",
    "    data = ImageClassifierData.from_csv(PATH, 'train', f'{PATH}labels.csv', test_name='test',\n",
    "                                       val_idxs=val_idxs, suffix='.jpg', tfms=tfms, bs=bs)\n",
    "    \n",
    "    # http://forums.fast.ai/t/how-to-train-on-the-full-dataset-using-imageclassifierdata-from-csv/7761/13\n",
    "    # http://forums.fast.ai/t/how-to-train-on-the-full-dataset-using-imageclassifierdata-from-csv/7761/37\n",
    "    return data if sz > 300 else data.resize(340, 'tmp') # Reading the jpgs and resizing is slow for big images, so resizing them all to 340 first saves time"
   ]
  },
  {
   "cell_type": "code",
   "execution_count": 8,
   "metadata": {},
   "outputs": [],
   "source": [
    "data = get_data(256)"
   ]
  },
  {
   "cell_type": "code",
   "execution_count": 9,
   "metadata": {},
   "outputs": [],
   "source": [
    "x,y = next(iter(data.val_dl))"
   ]
  },
  {
   "cell_type": "code",
   "execution_count": 10,
   "metadata": {},
   "outputs": [
    {
     "data": {
      "text/plain": [
       "('/m/0118ms9c', 1000)"
      ]
     },
     "execution_count": 10,
     "metadata": {},
     "output_type": "execute_result"
    }
   ],
   "source": [
    "data.classes[0], len(data.classes)"
   ]
  },
  {
   "cell_type": "code",
   "execution_count": 11,
   "metadata": {},
   "outputs": [
    {
     "data": {
      "text/plain": [
       "[('/m/0118ms9c', 0.0),\n",
       " ('/m/011_dp', 0.0),\n",
       " ('/m/011_f4', 0.0),\n",
       " ('/m/011_g9', 0.0),\n",
       " ('/m/011jbn', 0.0),\n",
       " ('/m/011k07', 0.0),\n",
       " ('/m/011l78', 0.0),\n",
       " ('/m/011s0', 0.0),\n",
       " ('/m/0120dh', 0.0),\n",
       " ('/m/01226z', 0.0),\n",
       " ('/m/01280g', 0.0),\n",
       " ('/m/012c4n', 0.0),\n",
       " ('/m/012f08', 0.0),\n",
       " ('/m/012mj', 0.0),\n",
       " ('/m/012n4x', 0.0),\n",
       " ('/m/012n7d', 0.0),\n",
       " ('/m/012sbd', 0.0),\n",
       " ('/m/012v4j', 0.0),\n",
       " ('/m/012w5l', 0.0),\n",
       " ('/m/012yh1', 0.0),\n",
       " ('/m/0130jx', 0.0),\n",
       " ('/m/01350r', 0.0),\n",
       " ('/m/0138tl', 0.0),\n",
       " ('/m/013_1c', 0.0),\n",
       " ('/m/013s93', 0.0),\n",
       " ('/m/013xlm', 0.0),\n",
       " ('/m/013y0j', 0.0),\n",
       " ('/m/013y1f', 0.0),\n",
       " ('/m/01443y', 0.0),\n",
       " ('/m/01445t', 0.0),\n",
       " ('/m/0149r', 0.0),\n",
       " ('/m/014dsx', 0.0),\n",
       " ('/m/014j1m', 0.0),\n",
       " ('/m/014sv8', 0.0),\n",
       " ('/m/014trl', 0.0),\n",
       " ('/m/014y4n', 0.0),\n",
       " ('/m/01515d', 0.0),\n",
       " ('/m/0152hh', 0.0),\n",
       " ('/m/01599', 0.0),\n",
       " ('/m/015_x', 0.0),\n",
       " ('/m/015c4z', 0.0),\n",
       " ('/m/015h_t', 0.0),\n",
       " ('/m/015lz1', 0.0),\n",
       " ('/m/015p6', 0.0),\n",
       " ('/m/015qff', 0.0),\n",
       " ('/m/015x4r', 0.0),\n",
       " ('/m/015y8h', 0.0),\n",
       " ('/m/0167gd', 0.0),\n",
       " ('/m/0169zh', 0.0),\n",
       " ('/m/016c68', 0.0),\n",
       " ('/m/016f4d', 0.0),\n",
       " ('/m/016g8_', 0.0),\n",
       " ('/m/016m2d', 0.0),\n",
       " ('/m/016pp7', 0.0),\n",
       " ('/m/016q19', 0.0),\n",
       " ('/m/016xt7', 0.0),\n",
       " ('/m/0174k2', 0.0),\n",
       " ('/m/0174n1', 0.0),\n",
       " ('/m/0176mf', 0.0),\n",
       " ('/m/017_cz', 0.0),\n",
       " ('/m/017ftj', 0.0),\n",
       " ('/m/017kvv', 0.0),\n",
       " ('/m/017m8l', 0.0),\n",
       " ('/m/017r8p', 0.0),\n",
       " ('/m/0180xr', 0.0),\n",
       " ('/m/018jz', 0.0),\n",
       " ('/m/018kg', 0.0),\n",
       " ('/m/018p4k', 0.0),\n",
       " ('/m/018tkd', 0.0),\n",
       " ('/m/018w8', 0.0),\n",
       " ('/m/018xm', 0.0),\n",
       " ('/m/0191_7', 0.0),\n",
       " ('/m/01940j', 0.0),\n",
       " ('/m/0199b0', 0.0),\n",
       " ('/m/0199g', 1.0),\n",
       " ('/m/019cfy', 0.0),\n",
       " ('/m/019dx1', 0.0),\n",
       " ('/m/019dxh', 0.0),\n",
       " ('/m/019jd', 0.0),\n",
       " ('/m/019nj4', 0.0),\n",
       " ('/m/019p5q', 0.0),\n",
       " ('/m/019sc', 0.0),\n",
       " ('/m/019sc6', 0.0),\n",
       " ('/m/019swr', 0.0),\n",
       " ('/m/019w40', 0.0),\n",
       " ('/m/01_5g', 0.0),\n",
       " ('/m/01__t', 0.0),\n",
       " ('/m/01_bhs', 0.0),\n",
       " ('/m/01b2w5', 0.0),\n",
       " ('/m/01b4q9', 0.0),\n",
       " ('/m/01b638', 0.0),\n",
       " ('/m/01b7fy', 0.0),\n",
       " ('/m/01b9xk', 0.0),\n",
       " ('/m/01bdy', 0.0),\n",
       " ('/m/01bfm9', 0.0),\n",
       " ('/m/01bgsw', 0.0),\n",
       " ('/m/01bjv', 0.0),\n",
       " ('/m/01bjxx', 0.0),\n",
       " ('/m/01bl7v', 0.0),\n",
       " ('/m/01bmhj', 0.0),\n",
       " ('/m/01bqgn', 0.0),\n",
       " ('/m/01bqk0', 1.0),\n",
       " ('/m/01bqvp', 0.0),\n",
       " ('/m/01btn', 0.0),\n",
       " ('/m/01c4rd', 0.0),\n",
       " ('/m/01c648', 0.0),\n",
       " ('/m/01c8br', 0.0),\n",
       " ('/m/01c_0l', 0.0),\n",
       " ('/m/01ckgp', 0.0),\n",
       " ('/m/01cmb2', 0.0),\n",
       " ('/m/01cwty', 0.0),\n",
       " ('/m/01d40f', 0.0),\n",
       " ('/m/01d_ff', 0.0),\n",
       " ('/m/01dqkc', 0.0),\n",
       " ('/m/01dv4h', 0.0),\n",
       " ('/m/01dvt1', 0.0),\n",
       " ('/m/01dws', 0.0),\n",
       " ('/m/01dwsz', 0.0),\n",
       " ('/m/01dwwc', 0.0),\n",
       " ('/m/01dxs', 0.0),\n",
       " ('/m/01dy8n', 0.0),\n",
       " ('/m/01f43', 0.0),\n",
       " ('/m/01fdzj', 0.0),\n",
       " ('/m/01fh4r', 0.0),\n",
       " ('/m/01fklc', 0.0),\n",
       " ('/m/01fnns', 0.0),\n",
       " ('/m/01g317', 0.0),\n",
       " ('/m/01g5v', 0.0),\n",
       " ('/m/01g8j', 0.0),\n",
       " ('/m/01g8p4', 0.0),\n",
       " ('/m/01gkx_', 0.0),\n",
       " ('/m/01gllr', 0.0),\n",
       " ('/m/01gmv2', 0.0),\n",
       " ('/m/01gq53', 0.0),\n",
       " ('/m/01h1dd', 0.0),\n",
       " ('/m/01h3n', 0.0),\n",
       " ('/m/01h44', 0.0),\n",
       " ('/m/01h6rj', 0.0),\n",
       " ('/m/01h8tj', 0.0),\n",
       " ('/m/01h_1n', 0.0),\n",
       " ('/m/01hxyd', 0.0),\n",
       " ('/m/01j04m', 0.0),\n",
       " ('/m/01j2bj', 0.0),\n",
       " ('/m/01j48b', 0.0),\n",
       " ('/m/01j51', 0.0),\n",
       " ('/m/01j61q', 0.0),\n",
       " ('/m/01jb4', 0.0),\n",
       " ('/m/01jc75', 0.0),\n",
       " ('/m/01jddz', 0.0),\n",
       " ('/m/01jfm_', 0.0),\n",
       " ('/m/01jfsr', 0.0),\n",
       " ('/m/01jypq', 0.0),\n",
       " ('/m/01k0mv', 0.0),\n",
       " ('/m/01k9lj', 0.0),\n",
       " ('/m/01kcnl', 0.0),\n",
       " ('/m/01knjb', 0.0),\n",
       " ('/m/01krhy', 0.0),\n",
       " ('/m/01l0mw', 0.0),\n",
       " ('/m/01l7qd', 0.0),\n",
       " ('/m/01l7t2', 0.0),\n",
       " ('/m/01lcw4', 0.0),\n",
       " ('/m/01lcwm', 0.0),\n",
       " ('/m/01llwg', 0.0),\n",
       " ('/m/01lqfm', 0.0),\n",
       " ('/m/01lrl', 0.0),\n",
       " ('/m/01lynh', 0.0),\n",
       " ('/m/01m2v', 0.0),\n",
       " ('/m/01m3v', 0.0),\n",
       " ('/m/01mqdt', 0.0),\n",
       " ('/m/01ms7j', 0.0),\n",
       " ('/m/01mzpv', 0.0),\n",
       " ('/m/01n32', 0.0),\n",
       " ('/m/01n4qj', 0.0),\n",
       " ('/m/01n5jq', 0.0),\n",
       " ('/m/01nkt', 0.0),\n",
       " ('/m/01nq26', 0.0),\n",
       " ('/m/01pns0', 0.0),\n",
       " ('/m/01prls', 1.0),\n",
       " ('/m/01qbl', 0.0),\n",
       " ('/m/01qdbn', 0.0),\n",
       " ('/m/01qhp_', 0.0),\n",
       " ('/m/01r546', 0.0),\n",
       " ('/m/01r8w', 0.0),\n",
       " ('/m/01rkbr', 0.0),\n",
       " ('/m/01rzcn', 0.0),\n",
       " ('/m/01s105', 0.0),\n",
       " ('/m/01s55n', 0.0),\n",
       " ('/m/01sdr3', 0.0),\n",
       " ('/m/01sfb5', 0.0),\n",
       " ('/m/01sgl', 0.0),\n",
       " ('/m/01shdw', 0.0),\n",
       " ('/m/01spzs', 0.0),\n",
       " ('/m/01ssh5', 0.0),\n",
       " ('/m/01tcjp', 0.0),\n",
       " ('/m/01tqrk', 0.0),\n",
       " ('/m/01tr_g', 0.0),\n",
       " ('/m/01tv9', 0.0),\n",
       " ('/m/01txr2', 0.0),\n",
       " ('/m/01v4x4', 0.0),\n",
       " ('/m/01vbnl', 0.0),\n",
       " ('/m/01vk9q', 0.0),\n",
       " ('/m/01vm1p', 0.0),\n",
       " ('/m/01vmzn', 0.0),\n",
       " ('/m/01vq3', 0.0),\n",
       " ('/m/01vw0_', 0.0),\n",
       " ('/m/01w71f', 0.0),\n",
       " ('/m/01ww8y', 0.0),\n",
       " ('/m/01x314', 0.0),\n",
       " ('/m/01x3z', 0.0),\n",
       " ('/m/01x5q', 0.0),\n",
       " ('/m/01x_v', 0.0),\n",
       " ('/m/01xgg_', 0.0),\n",
       " ('/m/01xq0k1', 0.0),\n",
       " ('/m/01xqw', 0.0),\n",
       " ('/m/01xs3r', 0.0),\n",
       " ('/m/01xygc', 0.0),\n",
       " ('/m/01xyhv', 0.0),\n",
       " ('/m/01y3fy', 0.0),\n",
       " ('/m/01y9k5', 0.0),\n",
       " ('/m/01ykh', 0.0),\n",
       " ('/m/01yrx', 0.0),\n",
       " ('/m/01yttv', 0.0),\n",
       " ('/m/01yx86', 0.0),\n",
       " ('/m/01z1kdw', 0.0),\n",
       " ('/m/01zbnw', 0.0),\n",
       " ('/m/0204fg', 0.0),\n",
       " ('/m/02068x', 0.0),\n",
       " ('/m/020fsy', 0.0),\n",
       " ('/m/020jm', 0.0),\n",
       " ('/m/020kz', 0.0),\n",
       " ('/m/020lf', 0.0),\n",
       " ('/m/020m7t', 0.0),\n",
       " ('/m/0215n', 0.0),\n",
       " ('/m/021dfr', 0.0),\n",
       " ('/m/021mn', 0.0),\n",
       " ('/m/021sj1', 0.0),\n",
       " ('/m/0220r2', 0.0),\n",
       " ('/m/022p83', 0.0),\n",
       " ('/m/022tld', 0.0),\n",
       " ('/m/023907r', 0.0),\n",
       " ('/m/023bbt', 0.0),\n",
       " ('/m/023j4r', 0.0),\n",
       " ('/m/023pjk', 0.0),\n",
       " ('/m/0242l', 0.0),\n",
       " ('/m/024g6', 0.0),\n",
       " ('/m/024gjb', 0.0),\n",
       " ('/m/02522', 0.0),\n",
       " ('/m/025dyy', 0.0),\n",
       " ('/m/025kyy', 0.0),\n",
       " ('/m/025nd', 0.0),\n",
       " ('/m/025rp__', 0.0),\n",
       " ('/m/025s3q0', 0.0),\n",
       " ('/m/025s53m', 0.0),\n",
       " ('/m/025t3bg', 0.0),\n",
       " ('/m/025xryy', 0.0),\n",
       " ('/m/0263qm', 0.0),\n",
       " ('/m/0265rtm', 0.0),\n",
       " ('/m/0268lbt', 0.0),\n",
       " ('/m/026bk', 0.0),\n",
       " ('/m/026qbn5', 0.0),\n",
       " ('/m/026t6', 0.0),\n",
       " ('/m/0270h', 0.0),\n",
       " ('/m/0271t', 0.0),\n",
       " ('/m/0276krm', 0.0),\n",
       " ('/m/027_ny3', 0.0),\n",
       " ('/m/027k4k', 0.0),\n",
       " ('/m/027n3_', 0.0),\n",
       " ('/m/027pcv', 0.0),\n",
       " ('/m/027qh7f', 0.0),\n",
       " ('/m/027x7n', 0.0),\n",
       " ('/m/027zgtw', 0.0),\n",
       " ('/m/0283dt1', 0.0),\n",
       " ('/m/0284d', 0.0),\n",
       " ('/m/0289j0', 0.0),\n",
       " ('/m/0294jb', 0.0),\n",
       " ('/m/029bxz', 0.0),\n",
       " ('/m/029tx', 0.0),\n",
       " ('/m/029zz6', 0.0),\n",
       " ('/m/02_58j', 0.0),\n",
       " ('/m/02_g0', 0.0),\n",
       " ('/m/02_ktj', 0.0),\n",
       " ('/m/02_n6y', 0.0),\n",
       " ('/m/02_x63', 0.0),\n",
       " ('/m/02c66t', 0.0),\n",
       " ('/m/02cqfm', 0.0),\n",
       " ('/m/02crq1', 0.0),\n",
       " ('/m/02csf', 0.0),\n",
       " ('/m/02cwm', 0.0),\n",
       " ('/m/02czv8', 0.0),\n",
       " ('/m/02d9qx', 0.0),\n",
       " ('/m/02dgv', 0.0),\n",
       " ('/m/02dl1y', 0.0),\n",
       " ('/m/02dwgb', 0.0),\n",
       " ('/m/02f9f_', 0.0),\n",
       " ('/m/02fhdf', 0.0),\n",
       " ('/m/02fq_6', 0.0),\n",
       " ('/m/02h00q', 0.0),\n",
       " ('/m/02h19r', 0.0),\n",
       " ('/m/02h664g', 0.0),\n",
       " ('/m/02hcw1', 0.0),\n",
       " ('/m/02hj4', 0.0),\n",
       " ('/m/02hqr87', 0.0),\n",
       " ('/m/02j4ms', 0.0),\n",
       " ('/m/02jfl0', 0.0),\n",
       " ('/m/02jjt', 0.0),\n",
       " ('/m/02jnhm', 0.0),\n",
       " ('/m/02jvh9', 0.0),\n",
       " ('/m/02jwqh', 0.0),\n",
       " ('/m/02jz0l', 0.0),\n",
       " ('/m/02ksmb', 0.0),\n",
       " ('/m/02ky346', 0.0),\n",
       " ('/m/02l8p9', 0.0),\n",
       " ('/m/02ljgl', 0.0),\n",
       " ('/m/02lts', 0.0),\n",
       " ('/m/02mf1n', 0.0),\n",
       " ('/m/02mnkq', 0.0),\n",
       " ('/m/02nf1k', 0.0),\n",
       " ('/m/02ntc1', 0.0),\n",
       " ('/m/02p0_xl', 0.0),\n",
       " ('/m/02p0tk3', 0.0),\n",
       " ('/m/02p16m6', 0.0),\n",
       " ('/m/02p3w7d', 0.0),\n",
       " ('/m/02p5f1q', 0.0),\n",
       " ('/m/02pd__z', 0.0),\n",
       " ('/m/02pkb8', 0.0),\n",
       " ('/m/02pkr5', 0.0),\n",
       " ('/m/02pmq73', 0.0),\n",
       " ('/m/02pv19', 0.0),\n",
       " ('/m/02py09', 0.0),\n",
       " ('/m/02q08p0', 0.0),\n",
       " ('/m/02q2kc3', 0.0),\n",
       " ('/m/02q5rd5', 0.0),\n",
       " ('/m/02q68d8', 0.0),\n",
       " ('/m/02q7ylj', 0.0),\n",
       " ('/m/02q8tbd', 0.0),\n",
       " ('/m/02q_bfg', 0.0),\n",
       " ('/m/02ql4yj', 0.0),\n",
       " ('/m/02qm2x', 0.0),\n",
       " ('/m/02r_57s', 0.0),\n",
       " ('/m/02rdsp', 0.0),\n",
       " ('/m/02rfdq', 0.0),\n",
       " ('/m/02rgn06', 0.0),\n",
       " ('/m/02rqv26', 0.0),\n",
       " ('/m/02s195', 0.0),\n",
       " ('/m/02tcwp', 0.0),\n",
       " ('/m/02tzth', 0.0),\n",
       " ('/m/02vqfm', 0.0),\n",
       " ('/m/02vwbzz', 0.0),\n",
       " ('/m/02vx4', 0.0),\n",
       " ('/m/02vzx9', 0.0),\n",
       " ('/m/02w3_2', 0.0),\n",
       " ('/m/02wbm', 0.0),\n",
       " ('/m/02wbtzl', 0.0),\n",
       " ('/m/02wtjj', 0.0),\n",
       " ('/m/02wv6h6', 0.0),\n",
       " ('/m/02wv84t', 0.0),\n",
       " ('/m/02wzbmj', 0.0),\n",
       " ('/m/02x8n6', 0.0),\n",
       " ('/m/02x984l', 0.0),\n",
       " ('/m/02xhr73', 0.0),\n",
       " ('/m/02xwb', 0.0),\n",
       " ('/m/02y6n', 0.0),\n",
       " ('/m/02z51p', 0.0),\n",
       " ('/m/02zg_', 0.0),\n",
       " ('/m/02zn54', 0.0),\n",
       " ('/m/02zn6n', 0.0),\n",
       " ('/m/02zr8', 0.0),\n",
       " ('/m/02zsn', 0.0),\n",
       " ('/m/02zt3', 0.0),\n",
       " ('/m/02zvsm', 0.0),\n",
       " ('/m/0306r', 0.0),\n",
       " ('/m/0307l', 0.0),\n",
       " ('/m/03120', 0.0),\n",
       " ('/m/031974', 0.0),\n",
       " ('/m/0319l', 0.0),\n",
       " ('/m/031b6r', 0.0),\n",
       " ('/m/031n1', 0.0),\n",
       " ('/m/0323sq', 0.0),\n",
       " ('/m/032b3c', 0.0),\n",
       " ('/m/032rk', 0.0),\n",
       " ('/m/032tl', 0.0),\n",
       " ('/m/033cnk', 0.0),\n",
       " ('/m/033j3c', 0.0),\n",
       " ('/m/033rq4', 0.0),\n",
       " ('/m/0342h', 0.0),\n",
       " ('/m/034c16', 0.0),\n",
       " ('/m/034qg', 0.0),\n",
       " ('/m/034z7h', 0.0),\n",
       " ('/m/035r7c', 0.0),\n",
       " ('/m/036k5h', 0.0),\n",
       " ('/m/036qh8', 0.0),\n",
       " ('/m/037hz', 0.0),\n",
       " ('/m/037p5b', 0.0),\n",
       " ('/m/037xy', 0.0),\n",
       " ('/m/037zsb', 0.0),\n",
       " ('/m/0388q', 0.0),\n",
       " ('/m/038hg', 0.0),\n",
       " ('/m/039jbq', 0.0),\n",
       " ('/m/039jq', 0.0),\n",
       " ('/m/039r6', 0.0),\n",
       " ('/m/039v1', 0.0),\n",
       " ('/m/039xj_', 0.0),\n",
       " ('/m/03__z0', 0.0),\n",
       " ('/m/03bj1', 0.0),\n",
       " ('/m/03bk1', 0.0),\n",
       " ('/m/03bt1vf', 0.0),\n",
       " ('/m/03c0bxg', 0.0),\n",
       " ('/m/03c7gz', 0.0),\n",
       " ('/m/03ct2_8', 0.0),\n",
       " ('/m/03d443', 0.0),\n",
       " ('/m/03dnzn', 0.0),\n",
       " ('/m/03f52z', 0.0),\n",
       " ('/m/03f6tc', 0.0),\n",
       " ('/m/03fj2', 0.0),\n",
       " ('/m/03fp41', 0.0),\n",
       " ('/m/03fwl', 0.0),\n",
       " ('/m/03g8mr', 0.0),\n",
       " ('/m/03grzl', 0.0),\n",
       " ('/m/03hj559', 0.0),\n",
       " ('/m/03hl4l9', 0.0),\n",
       " ('/m/03hlqvr', 0.0),\n",
       " ('/m/03hlz0c', 0.0),\n",
       " ('/m/03hs7k', 0.0),\n",
       " ('/m/03jm5', 0.0),\n",
       " ('/m/03k3r', 0.0),\n",
       " ('/m/03ktm1', 0.0),\n",
       " ('/m/03ldnb', 0.0),\n",
       " ('/m/03lnzv', 0.0),\n",
       " ('/m/03lq2', 0.0),\n",
       " ('/m/03m3pdh', 0.0),\n",
       " ('/m/03m4wn', 0.0),\n",
       " ('/m/03mcr3', 0.0),\n",
       " ('/m/03mr6', 0.0),\n",
       " ('/m/03nfch', 0.0),\n",
       " ('/m/03nfmq', 0.0),\n",
       " ('/m/03p2h9', 0.0),\n",
       " ('/m/03p3bw', 0.0),\n",
       " ('/m/03pgm', 0.0),\n",
       " ('/m/03pyqb', 0.0),\n",
       " ('/m/03q5c7', 0.0),\n",
       " ('/m/03q69', 0.0),\n",
       " ('/m/03qrc', 0.0),\n",
       " ('/m/03qtd73', 0.0),\n",
       " ('/m/03qtgjk', 0.0),\n",
       " ('/m/03qtwd', 0.0),\n",
       " ('/m/03rb85', 0.0),\n",
       " ('/m/03rszm', 0.0),\n",
       " ('/m/03s_tn', 0.0),\n",
       " ('/m/03scnj', 0.0),\n",
       " ('/m/03ssj5', 0.0),\n",
       " ('/m/03tw93', 0.0),\n",
       " ('/m/03v7tf', 0.0),\n",
       " ('/m/03vd46', 0.0),\n",
       " ('/m/03vt0', 0.0),\n",
       " ('/m/03w1r4', 0.0),\n",
       " ('/m/03x045', 0.0),\n",
       " ('/m/03xbw', 0.0),\n",
       " ('/m/03xxp', 0.0),\n",
       " ('/m/0403lcy', 0.0),\n",
       " ('/m/0404d', 0.0),\n",
       " ('/m/0408t8_', 0.0),\n",
       " ('/m/040b_t', 0.0),\n",
       " ('/m/0410tth', 0.0),\n",
       " ('/m/04115t2', 0.0),\n",
       " ('/m/043kkf8', 0.0),\n",
       " ('/m/0449p', 0.0),\n",
       " ('/m/044_87', 0.0),\n",
       " ('/m/044r5d', 0.0),\n",
       " ('/m/0463sg', 0.0),\n",
       " ('/m/0465mr4', 0.0),\n",
       " ('/m/047j0r', 0.0),\n",
       " ('/m/047vlmn', 0.0),\n",
       " ('/m/047vmg8', 0.0),\n",
       " ('/m/049vf_', 0.0),\n",
       " ('/m/04_fs', 0.0),\n",
       " ('/m/04_sv', 0.0),\n",
       " ('/m/04_tb', 0.0),\n",
       " ('/m/04bcr3', 0.0),\n",
       " ('/m/04brg2', 0.0),\n",
       " ('/m/04c0y', 0.0),\n",
       " ('/m/04cmwn', 0.0),\n",
       " ('/m/04cp_', 0.0),\n",
       " ('/m/04ctx', 0.0),\n",
       " ('/m/04dr76w', 0.0),\n",
       " ('/m/04g3r', 0.0),\n",
       " ('/m/04gth', 0.0),\n",
       " ('/m/04h4w', 0.0),\n",
       " ('/m/04h7h', 0.0),\n",
       " ('/m/04hgtk', 0.0),\n",
       " ('/m/04hygk', 0.0),\n",
       " ('/m/04jdhxy', 0.0),\n",
       " ('/m/04jjh', 0.0),\n",
       " ('/m/04jkpd', 0.0),\n",
       " ('/m/04k84', 0.0),\n",
       " ('/m/04kkgm', 0.0),\n",
       " ('/m/04lmyz', 0.0),\n",
       " ('/m/04m6gz', 0.0),\n",
       " ('/m/04m9y', 0.0),\n",
       " ('/m/04mygm', 0.0),\n",
       " ('/m/04n4x', 0.0),\n",
       " ('/m/04ndr', 0.0),\n",
       " ('/m/04p0qw', 0.0),\n",
       " ('/m/04p0xr', 0.0),\n",
       " ('/m/04pzb_', 0.0),\n",
       " ('/m/04rky', 0.0),\n",
       " ('/m/04rlf', 0.0),\n",
       " ('/m/04rmv', 0.0),\n",
       " ('/m/04shl0', 0.0),\n",
       " ('/m/04szw', 0.0),\n",
       " ('/m/04t7l', 0.0),\n",
       " ('/m/04tkfx', 0.0),\n",
       " ('/m/04tn4x', 0.0),\n",
       " ('/m/04v6l4', 0.0),\n",
       " ('/m/04wnmd', 0.0),\n",
       " ('/m/04wv_', 0.0),\n",
       " ('/m/04xd6k', 0.0),\n",
       " ('/m/04xz_5', 0.0),\n",
       " ('/m/04y4h8h', 0.0),\n",
       " ('/m/04ylt', 0.0),\n",
       " ('/m/04yqq2', 0.0),\n",
       " ('/m/04yx4', 0.0),\n",
       " ('/m/050gv4', 0.0),\n",
       " ('/m/050h0q', 0.0),\n",
       " ('/m/050h26', 0.0),\n",
       " ('/m/050k8', 0.0),\n",
       " ('/m/050vn', 0.0),\n",
       " ('/m/05148p4', 0.0),\n",
       " ('/m/052lwg6', 0.0),\n",
       " ('/m/052nz5x', 0.0),\n",
       " ('/m/052sf', 0.0),\n",
       " ('/m/052w_x', 0.0),\n",
       " ('/m/0541p', 0.0),\n",
       " ('/m/054_l', 0.0),\n",
       " ('/m/054xkw', 0.0),\n",
       " ('/m/056mk', 0.0),\n",
       " ('/m/057cc', 0.0),\n",
       " ('/m/057p5t', 0.0),\n",
       " ('/m/05_5p_0', 0.0),\n",
       " ('/m/05_5t0l', 0.0),\n",
       " ('/m/05b0n7k', 0.0),\n",
       " ('/m/05ctyq', 0.0),\n",
       " ('/m/05fc9mj', 0.0),\n",
       " ('/m/05gqfk', 0.0),\n",
       " ('/m/05h0n', 0.0),\n",
       " ('/m/05hg54', 0.0),\n",
       " ('/m/05j11x', 0.0),\n",
       " ('/m/05jnl', 0.0),\n",
       " ('/m/05kyg_', 0.0),\n",
       " ('/m/05mqq3', 0.0),\n",
       " ('/m/05n4y', 0.0),\n",
       " ('/m/05nnm', 0.0),\n",
       " ('/m/05p4z41', 0.0),\n",
       " ('/m/05qdh', 0.0),\n",
       " ('/m/05qjc', 0.0),\n",
       " ('/m/05r5c', 0.0),\n",
       " ('/m/05r655', 0.0),\n",
       " ('/m/05s0c', 0.0),\n",
       " ('/m/05s2s', 0.0),\n",
       " ('/m/05s771', 0.0),\n",
       " ('/m/05t_yt', 0.0),\n",
       " ('/m/05tfch', 0.0),\n",
       " ('/m/05vtc', 0.0),\n",
       " ('/m/05wgwh', 0.0),\n",
       " ('/m/05wrt', 0.0),\n",
       " ('/m/05y5lj', 1.0),\n",
       " ('/m/05z55', 0.0),\n",
       " ('/m/05z6w', 0.0),\n",
       " ('/m/05zdp', 0.0),\n",
       " ('/m/05zppz', 0.0),\n",
       " ('/m/05zsy', 0.0),\n",
       " ('/m/061hd_', 0.0),\n",
       " ('/m/06203h', 0.0),\n",
       " ('/m/062581', 0.0),\n",
       " ('/m/0633h', 0.0),\n",
       " ('/m/0642b4', 0.0),\n",
       " ('/m/0643t', 0.0),\n",
       " ('/m/06600f2', 0.0),\n",
       " ('/m/0663v', 0.0),\n",
       " ('/m/068_x', 0.0),\n",
       " ('/m/068b8k', 0.0),\n",
       " ('/m/068hy', 0.0),\n",
       " ('/m/068jd', 0.0),\n",
       " ('/m/068mqj', 0.0),\n",
       " ('/m/068zj', 0.0),\n",
       " ('/m/06__v', 0.0),\n",
       " ('/m/06_dn', 0.0),\n",
       " ('/m/06_fw', 0.0),\n",
       " ('/m/06_g7', 0.0),\n",
       " ('/m/06bm2', 0.0),\n",
       " ('/m/06bt6', 0.0),\n",
       " ('/m/06c4_m', 0.0),\n",
       " ('/m/06c54', 0.0),\n",
       " ('/m/06c7f7', 0.0),\n",
       " ('/m/06d4_', 0.0),\n",
       " ('/m/06d_3', 0.0),\n",
       " ('/m/06fvc', 0.0),\n",
       " ('/m/06gfj', 0.0),\n",
       " ('/m/06gjp9', 0.0),\n",
       " ('/m/06h12k', 0.0),\n",
       " ('/m/06h5_j', 0.0),\n",
       " ('/m/06ht1', 0.0),\n",
       " ('/m/06hwcd', 0.0),\n",
       " ('/m/06j2d', 0.0),\n",
       " ('/m/06k2mb', 0.0),\n",
       " ('/m/06l9r', 0.0),\n",
       " ('/m/06m11', 0.0),\n",
       " ('/m/06mf6', 0.0),\n",
       " ('/m/06mg_j', 0.0),\n",
       " ('/m/06msq', 0.0),\n",
       " ('/m/06ncr', 0.0),\n",
       " ('/m/06nrc', 0.0),\n",
       " ('/m/06ntj', 0.0),\n",
       " ('/m/06nwz', 0.0),\n",
       " ('/m/06pg22', 0.0),\n",
       " ('/m/06pj2k', 0.0),\n",
       " ('/m/06q74', 0.0),\n",
       " ('/m/06qrr', 0.0),\n",
       " ('/m/06rrc', 0.0),\n",
       " ('/m/06y5r', 0.0),\n",
       " ('/m/06z04', 0.0),\n",
       " ('/m/06z0n', 0.0),\n",
       " ('/m/06z37_', 0.0),\n",
       " ('/m/06z6r', 0.0),\n",
       " ('/m/06z_nw', 0.0),\n",
       " ('/m/06zsq', 0.0),\n",
       " ('/m/07030', 0.0),\n",
       " ('/m/0703r8', 0.0),\n",
       " ('/m/071j9r', 0.0),\n",
       " ('/m/071k0', 0.0),\n",
       " ('/m/071p9', 0.0),\n",
       " ('/m/071qp', 0.0),\n",
       " ('/m/073bxn', 0.0),\n",
       " ('/m/0768fx', 0.0),\n",
       " ('/m/078jl', 0.0),\n",
       " ('/m/078n6m', 0.0),\n",
       " ('/m/078qz', 0.0),\n",
       " ('/m/079bkr', 0.0),\n",
       " ('/m/079cl', 0.0),\n",
       " ('/m/07_gml', 0.0),\n",
       " ('/m/07_lq', 0.0),\n",
       " ('/m/07bgp', 0.0),\n",
       " ('/m/07bjf', 0.0),\n",
       " ('/m/07bs0', 0.0),\n",
       " ('/m/07bsy', 0.0),\n",
       " ('/m/07bxq', 0.0),\n",
       " ('/m/07c52', 0.0),\n",
       " ('/m/07c6l', 0.0),\n",
       " ('/m/07clx', 0.0),\n",
       " ('/m/07cmd', 0.0),\n",
       " ('/m/07crc', 0.0),\n",
       " ('/m/07cx4', 0.0),\n",
       " ('/m/07dm6', 0.0),\n",
       " ('/m/07fbm7', 0.0),\n",
       " ('/m/07glzq', 0.0),\n",
       " ('/m/07gql', 0.0),\n",
       " ('/m/07hgcp', 0.0),\n",
       " ('/m/07j7r', 0.0),\n",
       " ('/m/07j87', 0.0),\n",
       " ('/m/07jbh', 0.0),\n",
       " ('/m/07jdr', 0.0),\n",
       " ('/m/07k1x', 0.0),\n",
       " ('/m/07k6w8', 0.0),\n",
       " ('/m/07kbbhf', 0.0),\n",
       " ('/m/07mhn', 0.0),\n",
       " ('/m/07pbfj', 0.0),\n",
       " ('/m/07pdzb4', 0.0),\n",
       " ('/m/07pj7bq', 0.0),\n",
       " ('/m/07pltdk', 0.0),\n",
       " ('/m/07ptj3n', 0.0),\n",
       " ('/m/07q3ylx', 0.0),\n",
       " ('/m/07qxg_', 0.0),\n",
       " ('/m/07r04', 0.0),\n",
       " ('/m/07xgrh', 0.0),\n",
       " ('/m/07y_7', 0.0),\n",
       " ('/m/07yv9', 1.0),\n",
       " ('/m/080hkjn', 0.0),\n",
       " ('/m/081hv', 0.0),\n",
       " ('/m/081pkj', 0.0),\n",
       " ('/m/081qc', 0.0),\n",
       " ('/m/0838f', 0.0),\n",
       " ('/m/083jv', 0.0),\n",
       " ('/m/083kb', 0.0),\n",
       " ('/m/083s2', 0.0),\n",
       " ('/m/083wq', 1.0),\n",
       " ('/m/084rd', 0.0),\n",
       " ('/m/084zz', 0.0),\n",
       " ('/m/088fh', 0.0),\n",
       " ('/m/0898b', 0.0),\n",
       " ('/m/089mxq', 0.0),\n",
       " ('/m/089v3', 0.0),\n",
       " ('/m/08dz3q', 0.0),\n",
       " ('/m/08g_yr', 0.0),\n",
       " ('/m/08gqpm', 0.0),\n",
       " ('/m/08hvt4', 0.0),\n",
       " ('/m/08mm4m', 0.0),\n",
       " ('/m/08pbxl', 0.0),\n",
       " ('/m/08t0vy', 0.0),\n",
       " ('/m/08t9c_', 0.0),\n",
       " ('/m/08tlbj', 0.0),\n",
       " ('/m/08xgn7', 0.0),\n",
       " ('/m/090mrr', 0.0),\n",
       " ('/m/091410', 0.0),\n",
       " ('/m/09515x', 0.0),\n",
       " ('/m/096mb', 0.0),\n",
       " ('/m/09728', 0.0),\n",
       " ('/m/099md', 0.0),\n",
       " ('/m/099ssp', 0.0),\n",
       " ('/m/09b5t', 0.0),\n",
       " ('/m/09csl', 0.0),\n",
       " ('/m/09ct_', 0.0),\n",
       " ('/m/09cx8', 0.0),\n",
       " ('/m/09d5_', 0.0),\n",
       " ('/m/09d_r', 0.0),\n",
       " ('/m/09ddx', 0.0),\n",
       " ('/m/09dzg', 0.0),\n",
       " ('/m/09f20', 0.0),\n",
       " ('/m/09f_2', 0.0),\n",
       " ('/m/09g1w', 0.0),\n",
       " ('/m/09g5pq', 0.0),\n",
       " ('/m/09hlfz', 0.0),\n",
       " ('/m/09hyx', 0.0),\n",
       " ('/m/09j06', 0.0),\n",
       " ('/m/09j1x', 0.0),\n",
       " ('/m/09j2d', 0.0),\n",
       " ('/m/09j5n', 0.0),\n",
       " ('/m/09jfs', 0.0),\n",
       " ('/m/09jwl', 0.0),\n",
       " ('/m/09k_b', 0.0),\n",
       " ('/m/09kjlm', 0.0),\n",
       " ('/m/09kmb', 0.0),\n",
       " ('/m/09kx5', 0.0),\n",
       " ('/m/09lbv', 0.0),\n",
       " ('/m/09ld4', 0.0),\n",
       " ('/m/09nm_', 0.0),\n",
       " ('/m/09q2t', 0.0),\n",
       " ('/m/09qck', 0.0),\n",
       " ('/m/09qgm', 0.0),\n",
       " ('/m/09qkx', 0.0),\n",
       " ('/m/09qqq', 0.0),\n",
       " ('/m/09rgp', 0.0),\n",
       " ('/m/09rvcxw', 0.0),\n",
       " ('/m/09spj9', 0.0),\n",
       " ('/m/09t49', 0.0),\n",
       " ('/m/09tvcd', 0.0),\n",
       " ('/m/09w5r', 0.0),\n",
       " ('/m/0_cp5', 0.0),\n",
       " ('/m/0_k2', 0.0),\n",
       " ('/m/0b3fp9', 0.0),\n",
       " ('/m/0b3yr', 0.0),\n",
       " ('/m/0b42l9', 0.0),\n",
       " ('/m/0b48hv', 0.0),\n",
       " ('/m/0b5gs', 0.0),\n",
       " ('/m/0b6w2z', 0.0),\n",
       " ('/m/0b_rs', 0.0),\n",
       " ('/m/0bby24z', 0.0),\n",
       " ('/m/0bh9flk', 0.0),\n",
       " ('/m/0bjyj5', 0.0),\n",
       " ('/m/0bkqqh', 0.0),\n",
       " ('/m/0bm8qyq', 0.0),\n",
       " ('/m/0bmgjqz', 0.0),\n",
       " ('/m/0bp_2p', 0.0),\n",
       " ('/m/0bpnmk0', 0.0),\n",
       " ('/m/0bps4xh', 0.0),\n",
       " ('/m/0bpwf6g', 0.0),\n",
       " ('/m/0bs7_0t', 0.0),\n",
       " ('/m/0bt9lr', 0.0),\n",
       " ('/m/0bt_c3', 0.0),\n",
       " ('/m/0btp2', 0.0),\n",
       " ('/m/0bvv45', 0.0),\n",
       " ('/m/0bwd_0j', 0.0),\n",
       " ('/m/0bxdx', 0.0),\n",
       " ('/m/0by6g', 0.0),\n",
       " ('/m/0c06p', 0.0),\n",
       " ('/m/0c0ygc', 0.0),\n",
       " ('/m/0c1vxg', 0.0),\n",
       " ('/m/0c23pz', 0.0),\n",
       " ('/m/0c29q', 0.0),\n",
       " ('/m/0c3vfpc', 0.0),\n",
       " ('/m/0c9ph5', 0.0),\n",
       " ('/m/0c_jw', 0.0),\n",
       " ('/m/0cblv', 0.0),\n",
       " ('/m/0cd4d', 0.0),\n",
       " ('/m/0cdl1', 0.0),\n",
       " ('/m/0cdn1', 0.0),\n",
       " ('/m/0cdn2d', 0.0),\n",
       " ('/m/0cdnk', 0.0),\n",
       " ('/m/0cffdh', 0.0),\n",
       " ('/m/0cgh4', 0.0),\n",
       " ('/m/0ch8v', 0.0),\n",
       " ('/m/0ch_cf', 0.0),\n",
       " ('/m/0cjq5', 0.0),\n",
       " ('/m/0cjs7', 0.0),\n",
       " ('/m/0cmf2', 0.0),\n",
       " ('/m/0cmx8', 0.0),\n",
       " ('/m/0cn6p', 0.0),\n",
       " ('/m/0cnmr', 0.0),\n",
       " ('/m/0cnxs6x', 0.0),\n",
       " ('/m/0cnyhnx', 0.0),\n",
       " ('/m/0crjs', 0.0),\n",
       " ('/m/0csby', 0.0),\n",
       " ('/m/0cvnqh', 0.0),\n",
       " ('/m/0cxn2', 0.0),\n",
       " ('/m/0cydv', 0.0),\n",
       " ('/m/0cyf8', 0.0),\n",
       " ('/m/0cyfs', 0.0),\n",
       " ('/m/0cyhj_', 0.0),\n",
       " ('/m/0cyz6w', 0.0),\n",
       " ('/m/0czz2', 0.0),\n",
       " ('/m/0d4v4', 0.0),\n",
       " ('/m/0d4w1', 0.0),\n",
       " ('/m/0d4wf', 0.0),\n",
       " ('/m/0d5gx', 0.0),\n",
       " ('/m/0d74dx', 0.0),\n",
       " ('/m/0d8lm', 0.0),\n",
       " ('/m/0d8zb', 0.0),\n",
       " ('/m/0d_2m', 0.0),\n",
       " ('/m/0db6d', 0.0),\n",
       " ('/m/0dbvp', 0.0),\n",
       " ('/m/0dbzx', 0.0),\n",
       " ('/m/0dfbw', 0.0),\n",
       " ('/m/0dflpy', 0.0),\n",
       " ('/m/0dftk', 0.0),\n",
       " ('/m/0dgw9r', 0.0),\n",
       " ('/m/0dhz0', 0.0),\n",
       " ('/m/0djtd', 0.0),\n",
       " ('/m/0dkzw', 0.0),\n",
       " ('/m/0dnr7', 0.0),\n",
       " ('/m/0dpm1v', 0.0),\n",
       " ('/m/0dqb5', 0.0),\n",
       " ('/m/0ds4x', 0.0),\n",
       " ('/m/0ds5b', 0.0),\n",
       " ('/m/0ds99lh', 0.0),\n",
       " ('/m/0dt3t', 0.0),\n",
       " ('/m/0dtln', 0.0),\n",
       " ('/m/0dv34', 0.0),\n",
       " ('/m/0dv5r', 0.0),\n",
       " ('/m/0dv77', 0.0),\n",
       " ('/m/0dv9c', 0.0),\n",
       " ('/m/0dw7n', 0.0),\n",
       " ('/m/0dx1j', 0.0),\n",
       " ('/m/0dxnmb', 0.0),\n",
       " ('/m/0dzct', 0.0),\n",
       " ('/m/0dzd8', 0.0),\n",
       " ('/m/0dzdr', 0.0),\n",
       " ('/m/0dzf4', 0.0),\n",
       " ('/m/0f1mq', 0.0),\n",
       " ('/m/0f4s2w', 0.0),\n",
       " ('/m/0f6wt', 0.0),\n",
       " ('/m/0f6x8', 0.0),\n",
       " ('/m/0f9_l', 0.0),\n",
       " ('/m/0f9swq', 0.0),\n",
       " ('/m/0fbdb', 0.0),\n",
       " ('/m/0fbdv', 0.0),\n",
       " ('/m/0fbf1m', 0.0),\n",
       " ('/m/0fc1fy', 0.0),\n",
       " ('/m/0ffjr', 0.0),\n",
       " ('/m/0fhrwd', 0.0),\n",
       " ('/m/0fj52s', 0.0),\n",
       " ('/m/0fkwjg', 0.0),\n",
       " ('/m/0fly7', 0.0),\n",
       " ('/m/0fm3zh', 0.0),\n",
       " ('/m/0fp6w', 0.0),\n",
       " ('/m/0fq0t_c', 0.0),\n",
       " ('/m/0fqfqc', 0.0),\n",
       " ('/m/0fqt361', 0.0),\n",
       " ('/m/0fszt', 0.0),\n",
       " ('/m/0ft9s', 0.0),\n",
       " ('/m/0ftb8', 0.0),\n",
       " ('/m/0fx80y', 0.0),\n",
       " ('/m/0fx9l', 0.0),\n",
       " ('/m/0fy9p2', 0.0),\n",
       " ('/m/0fz0h', 0.0),\n",
       " ('/m/0fzyg', 0.0),\n",
       " ('/m/0g22xs', 0.0),\n",
       " ('/m/0g2z8', 0.0),\n",
       " ('/m/0g2zmg', 0.0),\n",
       " ('/m/0g6b5', 0.0),\n",
       " ('/m/0g7v8f', 0.0),\n",
       " ('/m/0gd2v', 0.0),\n",
       " ('/m/0gd36', 0.0),\n",
       " ('/m/0gg8brk', 0.0),\n",
       " ('/m/0ggjh_8', 0.0),\n",
       " ('/m/0ggjrhd', 0.0),\n",
       " ('/m/0ggnq', 0.0),\n",
       " ('/m/0gj37', 0.0),\n",
       " ('/m/0gjbg72', 0.0),\n",
       " ('/m/0gjkl', 0.0),\n",
       " ('/m/0gkxy13', 0.0),\n",
       " ('/m/0gl2ny2', 0.0),\n",
       " ('/m/0glmwd6', 0.0),\n",
       " ('/m/0gm28', 0.0),\n",
       " ('/m/0gqbt', 0.0),\n",
       " ('/m/0grw1', 0.0),\n",
       " ('/m/0gs32y', 0.0),\n",
       " ('/m/0gv1x', 0.0),\n",
       " ('/m/0gvss07', 0.0),\n",
       " ('/m/0gxl3', 0.0),\n",
       " ('/m/0h23m', 0.0),\n",
       " ('/m/0h2r6', 0.0),\n",
       " ('/m/0h36z', 0.0),\n",
       " ('/m/0h8jxfl', 0.0),\n",
       " ('/m/0h8l4fh', 0.0),\n",
       " ('/m/0h8lk4b', 0.0),\n",
       " ('/m/0h8lkj8', 0.0),\n",
       " ('/m/0h8ls87', 0.0),\n",
       " ('/m/0h8lsmh', 0.0),\n",
       " ('/m/0h8ly30', 0.0),\n",
       " ('/m/0h8m5n6', 0.0),\n",
       " ('/m/0h8mhzd', 0.0),\n",
       " ('/m/0h8my_4', 0.0),\n",
       " ('/m/0h8mzrc', 0.0),\n",
       " ('/m/0h8n22v', 0.0),\n",
       " ('/m/0h8n5zk', 0.0),\n",
       " ('/m/0h8n6ft', 0.0),\n",
       " ('/m/0h8n90g', 0.0),\n",
       " ('/m/0h8n973', 0.0),\n",
       " ('/m/0h8n982', 0.0),\n",
       " ('/m/0h8nr_l', 0.0),\n",
       " ('/m/0h8nvk9', 0.0),\n",
       " ('/m/0h8nzzj', 0.0),\n",
       " ('/m/0h8p5xc', 0.0),\n",
       " ('/m/0h8pb3l', 0.0),\n",
       " ('/m/0h99cwc', 0.0),\n",
       " ('/m/0h9mv', 1.0),\n",
       " ('/m/0hf58v5', 0.0),\n",
       " ('/m/0hg7b', 0.0),\n",
       " ('/m/0hgr6', 0.0),\n",
       " ('/m/0hgs7v4', 0.0),\n",
       " ('/m/0hgs8s2', 0.0),\n",
       " ('/m/0hgs9bq', 0.0),\n",
       " ('/m/0hgsh7k', 0.0),\n",
       " ('/m/0hgslft', 0.0),\n",
       " ('/m/0hjf', 0.0),\n",
       " ('/m/0hkxq', 0.0),\n",
       " ('/m/0hlzt', 0.0),\n",
       " ('/m/0hnnb', 0.0),\n",
       " ('/m/0hnyx', 0.0),\n",
       " ('/m/0hqkz', 0.0),\n",
       " ('/m/0hr8', 0.0),\n",
       " ('/m/0hsrw', 0.0),\n",
       " ('/m/0hz4q', 0.0),\n",
       " ('/m/0j272k5', 0.0),\n",
       " ('/m/0j2kx', 0.0),\n",
       " ('/m/0j7ty', 0.0),\n",
       " ('/m/0j_5b', 0.0),\n",
       " ('/m/0j_s4', 0.0),\n",
       " ('/m/0jb3', 0.0),\n",
       " ('/m/0jbk', 0.0),\n",
       " ('/m/0jg57', 0.0),\n",
       " ('/m/0jjw', 0.0),\n",
       " ('/m/0jly1', 0.0),\n",
       " ('/m/0jm_', 0.0),\n",
       " ('/m/0jnvp', 0.0),\n",
       " ('/m/0jqgx', 0.0),\n",
       " ('/m/0jxw5', 0.0),\n",
       " ('/m/0jy4k', 0.0),\n",
       " ('/m/0jyfg', 0.0),\n",
       " ('/m/0jzz1', 0.0),\n",
       " ('/m/0k0pj', 0.0),\n",
       " ('/m/0k1tl', 0.0),\n",
       " ('/m/0k4j', 0.0),\n",
       " ('/m/0k5j', 0.0),\n",
       " ('/m/0k65p', 0.0),\n",
       " ('/m/0kmg4', 0.0),\n",
       " ('/m/0kpbc', 0.0),\n",
       " ('/m/0kpmf', 0.0),\n",
       " ('/m/0kpqd', 0.0),\n",
       " ('/m/0krfg', 0.0),\n",
       " ('/m/0l14md', 0.0),\n",
       " ('/m/0l515', 0.0),\n",
       " ('/m/0l7_8', 0.0),\n",
       " ('/m/0ll1f78', 0.0),\n",
       " ('/m/0llzx', 0.0),\n",
       " ('/m/0ltfs', 0.0),\n",
       " ('/m/0lxkm', 0.0),\n",
       " ('/m/0m53l', 0.0),\n",
       " ('/m/0mcqy', 0.0),\n",
       " ('/m/0mcx2', 0.0),\n",
       " ('/m/0mhy4', 0.0),\n",
       " ('/m/0mkg', 0.0),\n",
       " ('/m/0n28_', 0.0),\n",
       " ('/m/0n49352', 0.0),\n",
       " ('/m/0n5v01m', 0.0),\n",
       " ('/m/0nl46', 0.0),\n",
       " ('/m/0p57p', 0.0),\n",
       " ('/m/0pcq81q', 0.0),\n",
       " ('/m/0pcr', 0.0),\n",
       " ('/m/0pd7', 0.0),\n",
       " ('/m/0pg52', 0.0),\n",
       " ('/m/0ph39', 0.0),\n",
       " ('/m/0ql23', 0.0),\n",
       " ('/m/0qmmr', 0.0),\n",
       " ('/m/0sgh53y', 0.0),\n",
       " ('/m/0swq_', 0.0),\n",
       " ('/m/0vg8', 0.0),\n",
       " ('/m/0vlys', 0.0),\n",
       " ('/m/0w7s', 0.0),\n",
       " ('/m/0ytgt', 0.0),\n",
       " ('/m/0zkm', 0.0),\n",
       " ('/m/0zvk5', 0.0)]"
      ]
     },
     "execution_count": 11,
     "metadata": {},
     "output_type": "execute_result"
    }
   ],
   "source": [
    "# for the first picture\n",
    "list(zip(data.classes, y[0]))"
   ]
  },
  {
   "cell_type": "code",
   "execution_count": 12,
   "metadata": {},
   "outputs": [
    {
     "name": "stderr",
     "output_type": "stream",
     "text": [
      "Clipping input data to the valid range for imshow with RGB data ([0..1] for floats or [0..255] for integers).\n"
     ]
    },
    {
     "data": {
      "text/plain": [
       "<matplotlib.image.AxesImage at 0x7f16f6a7d128>"
      ]
     },
     "execution_count": 12,
     "metadata": {},
     "output_type": "execute_result"
    },
    {
     "data": {
      "image/png": "[encoded data removed]",
      "text/plain": [
       "<Figure size 432x288 with 1 Axes>"
      ]
     },
     "metadata": {
      "needs_background": "light"
     },
     "output_type": "display_data"
    }
   ],
   "source": [
    "plt.imshow(data.val_ds.denorm(to_np(x))[0]*1.4)"
   ]
  },
  {
   "cell_type": "code",
   "execution_count": 13,
   "metadata": {},
   "outputs": [],
   "source": [
    "learn = ConvLearner.pretrained(f_model, data, metrics=metricss, )"
   ]
  },
  {
   "cell_type": "code",
   "execution_count": 32,
   "metadata": {},
   "outputs": [
    {
     "data": {
      "application/vnd.jupyter.widget-view+json": {
       "model_id": "a1277e9da6464c538f81b49202271e92",
       "version_major": 2,
       "version_minor": 0
      },
      "text/plain": [
       "HBox(children=(IntProgress(value=0, description='Epoch', max=1), HTML(value='')))"
      ]
     },
     "metadata": {},
     "output_type": "display_data"
    },
    {
     "name": "stdout",
     "output_type": "stream",
     "text": [
      "epoch      trn_loss   val_loss   f2                             \n",
      "    0      0.027581   0.021944   0.293998  \n",
      "\n"
     ]
    },
    {
     "data": {
      "image/png": "[encoded data removed]",
      "text/plain": [
       "<Figure size 432x288 with 1 Axes>"
      ]
     },
     "metadata": {
      "needs_background": "light"
     },
     "output_type": "display_data"
    }
   ],
   "source": [
    "lrf = learn.lr_find()\n",
    "learn.sched.plot()"
   ]
  },
  {
   "cell_type": "code",
   "execution_count": 14,
   "metadata": {},
   "outputs": [
    {
     "data": {
      "application/vnd.jupyter.widget-view+json": {
       "model_id": "0b8f13339dab4f8e805400342ea69ba6",
       "version_major": 2,
       "version_minor": 0
      },
      "text/plain": [
       "HBox(children=(IntProgress(value=0, description='Epoch', max=5), HTML(value='')))"
      ]
     },
     "metadata": {},
     "output_type": "display_data"
    },
    {
     "name": "stdout",
     "output_type": "stream",
     "text": [
      "epoch      trn_loss   val_loss   f2                             \n",
      "    0      0.025706   0.023867   0.247584  \n",
      "    1      0.023972   0.021451   0.30066                        \n",
      " 57%|█████▋    | 620/1093 [13:02<09:45,  1.24s/it, loss=0.0218]"
     ]
    },
    {
     "name": "stderr",
     "output_type": "stream",
     "text": [
      "IOPub message rate exceeded.\n",
      "The notebook server will temporarily stop sending output\n",
      "to the client in order to avoid crashing it.\n",
      "To change this limit, set the config variable\n",
      "`--NotebookApp.iopub_msg_rate_limit`.\n",
      "\n",
      "Current values:\n",
      "NotebookApp.iopub_msg_rate_limit=1000.0 (msgs/sec)\n",
      "NotebookApp.rate_limit_window=3.0 (secs)\n",
      "\n"
     ]
    },
    {
     "name": "stdout",
     "output_type": "stream",
     "text": [
      "    4      0.019087   0.016799   0.403189                       \n",
      "\n"
     ]
    },
    {
     "data": {
      "text/plain": [
       "[array([0.0168]), 0.40318937063955335]"
      ]
     },
     "execution_count": 14,
     "metadata": {},
     "output_type": "execute_result"
    }
   ],
   "source": [
    "lr = 1\n",
    "learn.fit(lr, 5, cycle_len=1, cycle_mult=1)"
   ]
  },
  {
   "cell_type": "code",
   "execution_count": 20,
   "metadata": {
    "scrolled": true
   },
   "outputs": [
    {
     "data": {
      "application/vnd.jupyter.widget-view+json": {
       "model_id": "3dc95a4804fb4324badc5b62d73bd256",
       "version_major": 2,
       "version_minor": 0
      },
      "text/plain": [
       "HBox(children=(IntProgress(value=0, description='Epoch', max=3), HTML(value='')))"
      ]
     },
     "metadata": {},
     "output_type": "display_data"
    },
    {
     "name": "stdout",
     "output_type": "stream",
     "text": [
      "epoch      trn_loss   val_loss   f2                             \n",
      "    0      0.016919   0.014711   0.493713  \n",
      "    1      0.015879   0.014342   0.512769                       \n",
      "    2      0.01625    0.014217   0.518531                       \n",
      "\n"
     ]
    },
    {
     "data": {
      "text/plain": [
       "[array([0.01422]), 0.5185312969190187]"
      ]
     },
     "execution_count": 20,
     "metadata": {},
     "output_type": "execute_result"
    }
   ],
   "source": [
    "# the following cell is runned two times\n",
    "learn.fit(lr, 2, cycle_len=1, cycle_mult=2)"
   ]
  },
  {
   "cell_type": "code",
   "execution_count": 23,
   "metadata": {},
   "outputs": [
    {
     "data": {
      "application/vnd.jupyter.widget-view+json": {
       "model_id": "15d7702fc2764e24bec54e1540fdcced",
       "version_major": 2,
       "version_minor": 0
      },
      "text/plain": [
       "HBox(children=(IntProgress(value=0, description='Epoch', max=2), HTML(value='')))"
      ]
     },
     "metadata": {},
     "output_type": "display_data"
    },
    {
     "name": "stdout",
     "output_type": "stream",
     "text": [
      "epoch      trn_loss   val_loss   f2                             \n",
      "    0      0.015971   0.01414    0.524244  \n",
      "    1      0.016035   0.014044   0.529674                       \n",
      "\n"
     ]
    },
    {
     "data": {
      "text/plain": [
       "[array([0.01404]), 0.5296741980748115]"
      ]
     },
     "execution_count": 23,
     "metadata": {},
     "output_type": "execute_result"
    }
   ],
   "source": [
    "# the following cell is runned 1 time.\n",
    "learn.fit(lr/2, 2, cycle_len=1, cycle_mult=1)"
   ]
  },
  {
   "cell_type": "code",
   "execution_count": 15,
   "metadata": {},
   "outputs": [],
   "source": [
    "learn.unfreeze()\n",
    "lrs = np.array([0.005, 0.05, 0.5])"
   ]
  },
  {
   "cell_type": "code",
   "execution_count": 16,
   "metadata": {},
   "outputs": [
    {
     "data": {
      "application/vnd.jupyter.widget-view+json": {
       "model_id": "ff4978bad1c4465fac2c9770737e8557",
       "version_major": 2,
       "version_minor": 0
      },
      "text/plain": [
       "HBox(children=(IntProgress(value=0, description='Epoch', max=1), HTML(value='')))"
      ]
     },
     "metadata": {},
     "output_type": "display_data"
    },
    {
     "name": "stdout",
     "output_type": "stream",
     "text": [
      "epoch      trn_loss   val_loss   f2                               \n",
      "    0      0.015266   0.013409   0.572791  \n",
      "\n"
     ]
    },
    {
     "data": {
      "text/plain": [
       "[array([0.01341]), 0.5727912780212229]"
      ]
     },
     "execution_count": 16,
     "metadata": {},
     "output_type": "execute_result"
    }
   ],
   "source": [
    "learn.fit(lrs, 1, cycle_len=1, cycle_mult=1)"
   ]
  },
  {
   "cell_type": "markdown",
   "metadata": {},
   "source": [
    "## dont mess up with previous training models unless you are confident"
   ]
  },
  {
   "cell_type": "code",
   "execution_count": 17,
   "metadata": {},
   "outputs": [],
   "source": [
    "learn.save('model_resnext101_1000_256_87000')"
   ]
  },
  {
   "cell_type": "code",
   "execution_count": 14,
   "metadata": {},
   "outputs": [],
   "source": [
    "learn.load('model_resnext101_1000_256_87000')"
   ]
  },
  {
   "cell_type": "code",
   "execution_count": 17,
   "metadata": {},
   "outputs": [],
   "source": [
    "learn.save('model_resnext101_1000_256_87000_all')"
   ]
  },
  {
   "cell_type": "code",
   "execution_count": 18,
   "metadata": {},
   "outputs": [],
   "source": [
    "learn.load('model_resnext101_1000_256_87000_all')"
   ]
  },
  {
   "cell_type": "code",
   "execution_count": 27,
   "metadata": {},
   "outputs": [
    {
     "data": {
      "application/vnd.jupyter.widget-view+json": {
       "model_id": "73179cde75134090a477fe00ef9ca150",
       "version_major": 2,
       "version_minor": 0
      },
      "text/plain": [
       "HBox(children=(IntProgress(value=0, description='Epoch', max=1), HTML(value='')))"
      ]
     },
     "metadata": {},
     "output_type": "display_data"
    },
    {
     "name": "stdout",
     "output_type": "stream",
     "text": [
      "epoch      trn_loss   val_loss   f2                          \n",
      "    0      0.155299   0.136965   0.704523  \n"
     ]
    },
    {
     "data": {
      "text/plain": [
       "[array([0.13697]), 0.7045227368127911]"
      ]
     },
     "execution_count": 27,
     "metadata": {},
     "output_type": "execute_result"
    }
   ],
   "source": [
    "# learn.unfreeze()\n",
    "# learn.fit(lr/2, 1, cycle_len=1)"
   ]
  },
  {
   "cell_type": "code",
   "execution_count": 19,
   "metadata": {},
   "outputs": [
    {
     "name": "stdout",
     "output_type": "stream",
     "text": [
      "                                              \r"
     ]
    }
   ],
   "source": [
    "multi_preds, y = learn.TTA(is_test=True)\n",
    "preds = np.mean(multi_preds, 0)"
   ]
  },
  {
   "cell_type": "code",
   "execution_count": 20,
   "metadata": {},
   "outputs": [
    {
     "data": {
      "text/plain": [
       "32536"
      ]
     },
     "execution_count": 20,
     "metadata": {},
     "output_type": "execute_result"
    }
   ],
   "source": [
    "len(preds)"
   ]
  },
  {
   "cell_type": "code",
   "execution_count": 21,
   "metadata": {},
   "outputs": [],
   "source": [
    "test_fnames = read_dir(PATH, 'test_256')"
   ]
  },
  {
   "cell_type": "code",
   "execution_count": 22,
   "metadata": {},
   "outputs": [],
   "source": [
    "preds_filter = np.round(preds)"
   ]
  },
  {
   "cell_type": "code",
   "execution_count": 23,
   "metadata": {},
   "outputs": [],
   "source": [
    "def extract_id (name):\n",
    "    output = name.split(\"/\")[-1].split(\".\")[0]\n",
    "    return output"
   ]
  },
  {
   "cell_type": "code",
   "execution_count": 24,
   "metadata": {},
   "outputs": [],
   "source": [
    "submit = {}\n",
    "for i, pred in enumerate(preds_filter):\n",
    "    id_ = extract_id(test_fnames[i])\n",
    "    label = \"\"\n",
    "    for num, j in enumerate(pred):\n",
    "        if j == 1:\n",
    "            label += data.classes[num]\n",
    "            label += \" \"\n",
    "    label = label[:-1]\n",
    "    submit[id_] = label"
   ]
  },
  {
   "cell_type": "code",
   "execution_count": 25,
   "metadata": {},
   "outputs": [
    {
     "data": {
      "text/plain": [
       "32536"
      ]
     },
     "execution_count": 25,
     "metadata": {},
     "output_type": "execute_result"
    }
   ],
   "source": [
    "len(submit.keys())"
   ]
  },
  {
   "cell_type": "code",
   "execution_count": 26,
   "metadata": {},
   "outputs": [],
   "source": [
    "training = pd.DataFrame.from_dict(submit,orient='index')\n",
    "training.index.names = ['image_id']\n",
    "training.columns = ['labels']\n",
    "training.to_csv(\"test_1.csv\")"
   ]
  },
  {
   "cell_type": "code",
   "execution_count": null,
   "metadata": {},
   "outputs": [],
   "source": []
  }
 ],
 "metadata": {
  "kernelspec": {
   "display_name": "Python 3",
   "language": "python",
   "name": "python3"
  },
  "language_info": {
   "codemirror_mode": {
    "name": "ipython",
    "version": 3
   },
   "file_extension": ".py",
   "mimetype": "text/x-python",
   "name": "python",
   "nbconvert_exporter": "python",
   "pygments_lexer": "ipython3",
   "version": "3.6.6"
  }
 },
 "nbformat": 4,
 "nbformat_minor": 2
}
